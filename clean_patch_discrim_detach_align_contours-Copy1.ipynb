{
 "cells": [
  {
   "cell_type": "code",
   "execution_count": 1,
   "metadata": {
    "collapsed": false
   },
   "outputs": [],
   "source": [
    "import torch\n",
    "import torch.nn\n",
    "import numpy as npe\n",
    "import seaborn as sns\n",
    "from Losses import distance_matrix_vector\n",
    "from ReprojectionStuff import get_GT_correspondence_indexes\n",
    "from ContPatch import MakeContourPatches\n",
    "from  torch.autograd import Variable as V\n",
    "from ContPatch import denormalizeContour,normalizeContour\n",
    "from ContPatch import DrawContourBoundaries\n",
    "#%matplotlib inline\n",
    "import seaborn as sns\n",
    "#plt.imshow(255 - img1.cpu().data.numpy()[0,0,:,:])\n",
    "from LAF import visualize_LAFs\n",
    "def loss_HardNetDetach(anchor, positive, margin = 1.0):\n",
    "    assert anchor.size() == positive.size(), \"Input sizes between positive and negative must be equal.\"\n",
    "    assert anchor.dim() == 2, \"Inputd must be a 2D matrix.\"\n",
    "    eps = 1e-8\n",
    "    dist_matrix = distance_matrix_vector(anchor, positive) + eps\n",
    "    pos1 = torch.diag(dist_matrix)\n",
    "    eye = torch.autograd.Variable(torch.eye(dist_matrix.size(1)))\n",
    "    if anchor.is_cuda:\n",
    "        eye=eye.cuda()\n",
    "    dist_matrix_detach = distance_matrix_vector(anchor, positive.detach()) + eps\n",
    "    # steps to filter out same patches that occur in distance matrix as negatives\n",
    "    dist_without_min_on_diag = dist_matrix_detach + eye*10\n",
    "    mask = (dist_without_min_on_diag.ge(0.008).float()-1)*-1\n",
    "    mask = mask.type_as(dist_without_min_on_diag)*10\n",
    "    dist_without_min_on_diag = dist_without_min_on_diag + mask\n",
    "    min_neg = torch.min(dist_without_min_on_diag,1)[0]\n",
    "    min_neg = min_neg\n",
    "    loss = torch.clamp(margin + pos1 - min_neg, min=0.0)\n",
    "    loss = torch.mean(loss)\n",
    "    return loss\n"
   ]
  },
  {
   "cell_type": "code",
   "execution_count": null,
   "metadata": {
    "collapsed": false
   },
   "outputs": [],
   "source": []
  },
  {
   "cell_type": "code",
   "execution_count": 2,
   "metadata": {
    "collapsed": false
   },
   "outputs": [],
   "source": [
    "import sys\n",
    "import numpy as np\n",
    "import torch\n",
    "import torch.nn as nn\n",
    "import torch.optim as optim\n",
    "from torch.autograd import Variable\n",
    "import torch.nn.functional as F\n",
    "import matplotlib.pyplot as plt\n",
    "from matplotlib.animation import FuncAnimation\n",
    "import matplotlib.animation as animation\n",
    "import os\n",
    "from PIL import Image\n",
    "import math\n",
    "from copy import deepcopy\n",
    "import gc\n",
    "from subprocess import call\n",
    "from ContPatch import GetContoursPatchGrid,GetKLongestFromM, makeContoursFromMNumpy\n",
    "class L2Norm(nn.Module):\n",
    "    def __init__(self):\n",
    "        super(L2Norm,self).__init__()\n",
    "        self.eps = 1e-8\n",
    "    def forward(self, x):\n",
    "        norm = torch.sqrt(torch.sum(x * x, dim = 1) + self.eps)\n",
    "        x = x / norm.unsqueeze(1).expand_as(x)\n",
    "        return x\n",
    "def get_input_param_optimizer(x, lr):\n",
    "    input_param = nn.Parameter(x.data)\n",
    "    optimizer = optim.Adam([input_param], lr=lr)\n",
    "    return input_param, optimizer\n",
    "\n",
    "def DrawContourBoundaries_on_fig(ax, conts, c = ('g', 'b')):\n",
    "    ph = 41\n",
    "    grid = GetContoursPatchGrid(conts, ph).transpose(1,2)\n",
    "    lines = {}\n",
    "    idxs1 = np.unique(conts[:,2].cpu().numpy())\n",
    "    for i in idxs1:\n",
    "        i = int(i)\n",
    "        idxs = torch.nonzero(conts[:,2] == int(i)).long()\n",
    "        if len(idxs) < 1:\n",
    "            continue\n",
    "        boundary_x = np.concatenate([grid[0,0, idxs, 0].data.cpu().numpy(), \n",
    "                                     grid[0,ph-1,idxs,0].data.cpu().numpy()[::-1]])\n",
    "        boundary_y = np.concatenate([grid[0,0, idxs, 1].data.cpu().numpy(),\n",
    "                                     grid[0,ph-1,idxs,1].data.cpu().numpy()[::-1]])\n",
    "        boundary_x = np.concatenate([boundary_x,boundary_x[0:1]])\n",
    "        boundary_y = np.concatenate([boundary_y,boundary_y[0:1]])\n",
    "        lines[str(i)] = []\n",
    "        lines[str(i)].append(ax.plot(boundary_x, boundary_y, c[0]))\n",
    "        lines[str(i)].append(ax.plot(grid[0,ph/2, idxs, 0].data.cpu().numpy(),\n",
    "                                     grid[0,ph/2, idxs,1].data.cpu().numpy(), c[1]))\n",
    "    return lines, ax\n",
    "\n",
    "from HardNet import HardNet\n",
    "class ContDiscrOptimDetach():\n",
    "    def __init__(self, descriptors_list, names_list, cuda = False, lr = 1e-0):\n",
    "        assert len(descriptors_list) == len(names_list)\n",
    "        self.desc_list = descriptors_list\n",
    "        self.names_list = names_list\n",
    "        self.colors = ['r', 'g', 'b', 'y', 'm', 'k', 'c']\n",
    "        self.cuda = cuda\n",
    "        self.out_conts1 = {}\n",
    "        self.out_conts2 = {}\n",
    "        self.loss_func = loss_HardNetDetach\n",
    "        self.out_loss_mean = {}\n",
    "        self.rad_diff = {}\n",
    "        self.nc_diff = {}\n",
    "        self.lr = lr;\n",
    "        for dn in names_list:\n",
    "            self.out_conts1[dn] = []\n",
    "            self.out_conts2[dn] = []      \n",
    "            self.out_loss_mean[dn] =[]\n",
    "            self.rad_diff[dn] = []\n",
    "            self.nc_diff[dn] =[]\n",
    "        return\n",
    "    def optimize(self, c1, c2, img1, img2, n_iters = 10):\n",
    "        if self.cuda:\n",
    "            img1,img2 = img1.cuda(),img2.cuda()\n",
    "        w1,h1 = img1.size(3),img1.size(2)\n",
    "        w2,h2 = img2.size(3),img2.size(2)\n",
    "        for d_idx in range(len(self.names_list)):\n",
    "            D = self.desc_list[d_idx]\n",
    "            try:\n",
    "                if self.cuda:\n",
    "                    D = D.cuda()\n",
    "            except:\n",
    "                pass\n",
    "            N = self.names_list[d_idx]\n",
    "            print N\n",
    "            cc1 = deepcopy(Variable(deepcopy(c1)))\n",
    "            cc2 = deepcopy(Variable(deepcopy(c2)))\n",
    "            if self.cuda:\n",
    "                cc1 = cc1.cuda()\n",
    "                cc2 = cc2.cuda()\n",
    "            cont_iii = np.unique(cc1[:,2].data.cpu().numpy())\n",
    "            num_cont = len(cont_iii)\n",
    "            \n",
    "            c1o, opt1 = get_input_param_optimizer(cc1[0:num_cont,5:], self.lr)\n",
    "            c2o, opt2 = get_input_param_optimizer(cc2[0:num_cont,5:], self.lr)\n",
    "            use_cont1 = V(torch.zeros(cc1.size()).float())\n",
    "            use_cont2 = V(torch.zeros(cc1.size()).float())\n",
    "            \n",
    "            if self.cuda:\n",
    "                use_cont1 = use_cont1.cuda()\n",
    "                use_cont2 = use_cont2.cuda()\n",
    "            for ci in range(num_cont):\n",
    "                iiii = int(cont_iii[ci])\n",
    "                ooooo = cc1[:,2] == iiii;\n",
    "                use_cont1[ooooo,:] = torch.cat([cc1[ooooo,:5],c1o[ci,:].repeat(ooooo.long().sum().data[0], 1)], dim = 1)\n",
    "            for ci in range(num_cont):\n",
    "                iiii = int(cont_iii[ci])\n",
    "                ooooo = cc2[:,2] == iiii;\n",
    "                use_cont2[ooooo,:] = torch.cat([cc2[ooooo,:5],c2o[ci,:].repeat(ooooo.long().sum().data[0], 1)], dim = 1)\n",
    "            self.out_conts1[N].append(deepcopy(use_cont1.data))\n",
    "            self.out_conts2[N].append(deepcopy(use_cont2.data))\n",
    "            for it in range(n_iters):\n",
    "                use_cont1 = V(torch.zeros(cc1.size()).float())\n",
    "                use_cont2 = V(torch.zeros(cc1.size()).float())\n",
    "                if self.cuda:\n",
    "                    use_cont1 = use_cont1.cuda()\n",
    "                    use_cont2 = use_cont2.cuda()\n",
    "                for ci in range(num_cont):\n",
    "                    iiii = int(cont_iii[ci])\n",
    "                    ooooo = cc1[:,2] == iiii;\n",
    "                    use_cont1[ooooo,:] = torch.cat([cc1[ooooo,:5],c1o[ci,:].repeat(ooooo.long().sum().data[0], 1)], dim = 1)\n",
    "                for ci in range(num_cont):\n",
    "                    iiii = int(cont_iii[ci])\n",
    "                    ooooo = cc2[:,2] == iiii;\n",
    "                    use_cont2[ooooo,:] = torch.cat([cc2[ooooo,:5],c2o[ci,:].repeat(ooooo.long().sum().data[0], 1)], dim = 1)\n",
    "                p1 = MakeContourPatches(img1, use_cont1,  32)\n",
    "                desc1 = V(torch.zeros(num_cont,128))\n",
    "                desc2 = V(torch.zeros(num_cont,128))\n",
    "                for ci in range(num_cont):\n",
    "                    iiii = int(cont_iii[ci])\n",
    "                    ooooo = use_cont1[:,2] == iiii;\n",
    "                    desc1[ci,:] = D(p1[0,0,ooooo,:].unsqueeze(0).unsqueeze(0))\n",
    "                p2 = MakeContourPatches(img2, use_cont2,  32)\n",
    "                for ci in range(num_cont):\n",
    "                    iiii = int(cont_iii[ci])\n",
    "                    ooooo = use_cont2[:,2] == iiii;\n",
    "                    desc2[ci,:] = D(p2[0,0,ooooo,:].unsqueeze(0).unsqueeze(0))\n",
    "                loss = self.loss_func(desc1,desc2)\n",
    "                #torch.sqrt(((desc1.view(-1,1)-desc2.view(-1,1))**2).sum(0, keepdim=True) + 1e-12).mean()\n",
    "                if it % 10 == 0:\n",
    "                    print loss.data.cpu().numpy()[0]\n",
    "                opt1.zero_grad()\n",
    "                opt2.zero_grad()\n",
    "                loss.backward() \n",
    "                opt1.step()\n",
    "                opt2.step()\n",
    "                self.out_conts1[N].append(deepcopy(use_cont1.data))\n",
    "                self.out_conts2[N].append(deepcopy(use_cont2.data))\n",
    "                self.out_loss_mean[N].append(deepcopy(loss.data.mean()))\n",
    "                self.rad_diff[N].append(deepcopy(torch.sqrt((c1o-c2o)**2 + 1e-10).data.mean()))\n",
    "            del cc1,cc2,opt1,opt2\n",
    "            gc.collect()\n",
    "            torch.cuda.empty_cache()\n",
    "        self.img1 = img1.data.cpu().numpy()\n",
    "        self.img2 = img2.data.cpu().numpy()\n",
    "        return\n",
    "    def save_data(self, fname):\n",
    "        data_dict = {'LAFs1':self.out_lafs1, 'LAFs2':self.out_lafs2, 'loss_mean': self.out_loss_mean,\n",
    "                    'rad_diff': self.rad_diff, 'shape_diff': self.shape_diff}\n",
    "        with open(fname, 'wb') as ff:\n",
    "            pickle.dump(data_dict, ff)\n",
    "        return\n",
    "    def load_data(self, fname):\n",
    "        with open(fname, 'rb') as ff:\n",
    "            data_dict = pickle.load(ff)\n",
    "        self.out_lafs1 = data_dict['LAFs1']\n",
    "        self.out_lafs2 = data_dict['LAFs2']\n",
    "        self.out_loss_mean = data_dict['loss_mean']\n",
    "        self.rad_diff = data_dict['rad_diff']\n",
    "        self.shape_diff = data_dict['shape_diff']\n",
    "        return    \n",
    "    def savemp4_per_desc(self, fname):\n",
    "        img = self.img1\n",
    "        for d_idx in range(len(self.names_list)):\n",
    "            fig, ax = plt.subplots()\n",
    "            fig.set_tight_layout(True)\n",
    "            ax.imshow(255 - img.squeeze())\n",
    "            lines_dict = {}\n",
    "            N = self.names_list[d_idx];\n",
    "            C = self.colors[d_idx];\n",
    "            lafs_dict = {\"1\": self.out_conts1[N], \"2\": self.out_conts2[N]}\n",
    "            num_frames = len(lafs_dict[\"1\"])\n",
    "            lines_dict['1'], ax =  DrawContourBoundaries_on_fig(ax, lafs_dict[\"1\"][0], ('g','b'))\n",
    "            lines_dict['2'], ax =  DrawContourBoundaries_on_fig(ax, lafs_dict[\"2\"][0], ('m','c'))\n",
    "            #ax.legend(['img1', 'img2'])\n",
    "            def visualize_LAFs_on_fig_mod(laf_dict, line_dictss, dname, i):\n",
    "                work_conts = V(laf_dict[dname][i])\n",
    "                line_dict = line_dictss[dname]\n",
    "                ph = 41\n",
    "                grid = GetContoursPatchGrid(work_conts, ph).transpose(1,2)\n",
    "                for jj in np.unique(work_conts[:,2].data.cpu().numpy()):\n",
    "                    jj = int(jj)\n",
    "                    idxs = torch.nonzero(work_conts[:,2] == int(jj)).long()\n",
    "                    if len(idxs) < 1:\n",
    "                        continue\n",
    "                    boundary_x = np.concatenate([grid[0,0, idxs, 0].data.cpu().numpy(), \n",
    "                                                 grid[0,ph-1,idxs,0].data.cpu().numpy()[::-1]])\n",
    "                    boundary_y = np.concatenate([grid[0,0, idxs, 1].data.cpu().numpy(),\n",
    "                                                 grid[0,ph-1,idxs,1].data.cpu().numpy()[::-1]])\n",
    "                    boundary_x = np.concatenate([boundary_x,boundary_x[0:1]])\n",
    "                    boundary_y = np.concatenate([boundary_y,boundary_y[0:1]])\n",
    "                    line_dict[str(jj)][0][0].set_data(boundary_x, boundary_y)\n",
    "                    line_dict[str(jj)][1][0].set_data(grid[0,ph/2, idxs, 0].data.cpu().numpy(),\n",
    "                                                 grid[0,ph/2, idxs,1].data.cpu().numpy())\n",
    "                return line_dictss[dname],ax\n",
    "            def update_LAF(i):\n",
    "                lines_dict[\"1\"], ax =  visualize_LAFs_on_fig_mod(lafs_dict, lines_dict, \"1\", i)\n",
    "                lines_dict[\"2\"], ax =  visualize_LAFs_on_fig_mod(lafs_dict, lines_dict, \"2\", i)\n",
    "                return ax \n",
    "            anim = FuncAnimation(fig, update_LAF, frames=np.arange(0, num_frames), interval=75)\n",
    "            Writer = animation.writers['ffmpeg']\n",
    "            writer = Writer(fps=24, metadata=dict(artist='Me'), bitrate=900)\n",
    "            anim.save('output_discrim_align_detach_conts/' + N + \"_\" +  fname, dpi=72, writer=writer)#'imagemagick')\n",
    "        return\n"
   ]
  },
  {
   "cell_type": "code",
   "execution_count": 3,
   "metadata": {
    "collapsed": false
   },
   "outputs": [],
   "source": [
    "input_img_fname1 = '/home/old-ufo/Dropbox/HP/i_indiana/1.ppm'\n",
    "input_img_fname2 = '/home/old-ufo/Dropbox/HP/i_indiana/6.ppm'\n",
    "\n",
    "def load_grayscale_var(fname):\n",
    "    img = Image.open(fname).convert('RGB')\n",
    "    img = np.mean(np.array(img), axis = 2)\n",
    "    var_image = torch.autograd.Variable(torch.from_numpy(img.astype(np.float32)), volatile = True)\n",
    "    var_image_reshape = var_image.view(1, 1, var_image.size(0),var_image.size(1))\n",
    "    if False:\n",
    "        var_image_reshape = var_image_reshape.cuda()\n",
    "    return var_image_reshape\n",
    "\n",
    "import math\n",
    "\n",
    "d1 =  lambda x: L2Norm()(x.view(x.size(0), -1))\n",
    "\n",
    "\n",
    "d2 = HardNet()\n",
    "model_weights = 'HardNet++.pth'\n",
    "hncheckpoint = torch.load(model_weights)\n",
    "d2.load_state_dict(hncheckpoint['state_dict'])\n",
    "d2.eval()\n",
    "    \n",
    "desc_list = [d2]#,d2,d3,d4]\n",
    "desc_names = ['HardNetMaxPool']#, 'HardNet', 'SIFT', 'TFeat']\n"
   ]
  },
  {
   "cell_type": "code",
   "execution_count": 5,
   "metadata": {
    "collapsed": false
   },
   "outputs": [
    {
     "name": "stdout",
     "output_type": "stream",
     "text": [
      "i_ajuntament\n",
      "detect_and_save_contour_single('/home/old-ufo/Dropbox/HP/i_ajuntament/1.ppm', '/home/old-ufo/dev/scalenet/contour/temp.mat'); exit()\n"
     ]
    },
    {
     "name": "stderr",
     "output_type": "stream",
     "text": [
      "/usr/local/lib/python2.7/dist-packages/ipykernel/__main__.py:7: UserWarning: volatile was removed and now has no effect. Use `with torch.no_grad():` instead.\n"
     ]
    },
    {
     "name": "stdout",
     "output_type": "stream",
     "text": [
      "HardNetMaxPool\n",
      "0.820673\n",
      "0.786134\n",
      "0.768818\n",
      "0.755725\n",
      "0.750447\n",
      "0.748164\n",
      "0.7469\n",
      "0.747541\n",
      "0.747412\n",
      "0.746795\n",
      "i_autannes\n",
      "detect_and_save_contour_single('/home/old-ufo/Dropbox/HP/i_autannes/1.ppm', '/home/old-ufo/dev/scalenet/contour/temp.mat'); exit()\n",
      "HardNetMaxPool\n",
      "0.744791\n",
      "0.746687\n",
      "0.731726\n",
      "0.723662\n",
      "0.71829\n",
      "0.711069\n",
      "0.70986\n",
      "0.710702\n",
      "0.707785\n",
      "0.709545\n"
     ]
    },
    {
     "ename": "KeyboardInterrupt",
     "evalue": "",
     "output_type": "error",
     "traceback": [
      "\u001b[1;31m---------------------------------------------------------------------------\u001b[0m",
      "\u001b[1;31mKeyboardInterrupt\u001b[0m                         Traceback (most recent call last)",
      "\u001b[1;32m<ipython-input-5-15f8bd3e63f6>\u001b[0m in \u001b[0;36m<module>\u001b[1;34m()\u001b[0m\n\u001b[0;32m     32\u001b[0m     \u001b[0mLOP\u001b[0m\u001b[1;33m.\u001b[0m\u001b[0moptimize\u001b[0m\u001b[1;33m(\u001b[0m\u001b[0mc1\u001b[0m\u001b[1;33m.\u001b[0m\u001b[0mdata\u001b[0m\u001b[1;33m,\u001b[0m \u001b[0mc2\u001b[0m\u001b[1;33m.\u001b[0m\u001b[0mdata\u001b[0m\u001b[1;33m,\u001b[0m \u001b[0mimg1\u001b[0m\u001b[1;33m,\u001b[0m \u001b[0mimg2\u001b[0m\u001b[1;33m,\u001b[0m \u001b[1;36m100\u001b[0m\u001b[1;33m)\u001b[0m\u001b[1;33m\u001b[0m\u001b[0m\n\u001b[0;32m     33\u001b[0m     \u001b[0mLOP\u001b[0m\u001b[1;33m.\u001b[0m\u001b[0mimg1\u001b[0m \u001b[1;33m=\u001b[0m \u001b[0mimg1\u001b[0m\u001b[1;33m.\u001b[0m\u001b[0mdata\u001b[0m\u001b[1;33m.\u001b[0m\u001b[0mcpu\u001b[0m\u001b[1;33m(\u001b[0m\u001b[1;33m)\u001b[0m\u001b[1;33m.\u001b[0m\u001b[0mnumpy\u001b[0m\u001b[1;33m(\u001b[0m\u001b[1;33m)\u001b[0m\u001b[1;33m\u001b[0m\u001b[0m\n\u001b[1;32m---> 34\u001b[1;33m     \u001b[0mLOP\u001b[0m\u001b[1;33m.\u001b[0m\u001b[0msavemp4_per_desc\u001b[0m\u001b[1;33m(\u001b[0m\u001b[0mdir1\u001b[0m \u001b[1;33m+\u001b[0m \u001b[1;34m'_single.mp4'\u001b[0m\u001b[1;33m)\u001b[0m\u001b[1;33m\u001b[0m\u001b[0m\n\u001b[0m\u001b[0;32m     35\u001b[0m     \u001b[1;31m#LOP.save_data(dir1 + '.pickle');\u001b[0m\u001b[1;33m\u001b[0m\u001b[1;33m\u001b[0m\u001b[0m\n\u001b[0;32m     36\u001b[0m     \u001b[1;31m#print 'opt done'\u001b[0m\u001b[1;33m\u001b[0m\u001b[1;33m\u001b[0m\u001b[0m\n",
      "\u001b[1;32m<ipython-input-2-1e0258579899>\u001b[0m in \u001b[0;36msavemp4_per_desc\u001b[1;34m(self, fname)\u001b[0m\n\u001b[0;32m    214\u001b[0m             \u001b[0mWriter\u001b[0m \u001b[1;33m=\u001b[0m \u001b[0manimation\u001b[0m\u001b[1;33m.\u001b[0m\u001b[0mwriters\u001b[0m\u001b[1;33m[\u001b[0m\u001b[1;34m'ffmpeg'\u001b[0m\u001b[1;33m]\u001b[0m\u001b[1;33m\u001b[0m\u001b[0m\n\u001b[0;32m    215\u001b[0m             \u001b[0mwriter\u001b[0m \u001b[1;33m=\u001b[0m \u001b[0mWriter\u001b[0m\u001b[1;33m(\u001b[0m\u001b[0mfps\u001b[0m\u001b[1;33m=\u001b[0m\u001b[1;36m24\u001b[0m\u001b[1;33m,\u001b[0m \u001b[0mmetadata\u001b[0m\u001b[1;33m=\u001b[0m\u001b[0mdict\u001b[0m\u001b[1;33m(\u001b[0m\u001b[0martist\u001b[0m\u001b[1;33m=\u001b[0m\u001b[1;34m'Me'\u001b[0m\u001b[1;33m)\u001b[0m\u001b[1;33m,\u001b[0m \u001b[0mbitrate\u001b[0m\u001b[1;33m=\u001b[0m\u001b[1;36m900\u001b[0m\u001b[1;33m)\u001b[0m\u001b[1;33m\u001b[0m\u001b[0m\n\u001b[1;32m--> 216\u001b[1;33m             \u001b[0manim\u001b[0m\u001b[1;33m.\u001b[0m\u001b[0msave\u001b[0m\u001b[1;33m(\u001b[0m\u001b[1;34m'output_discrim_align_detach_conts/'\u001b[0m \u001b[1;33m+\u001b[0m \u001b[0mN\u001b[0m \u001b[1;33m+\u001b[0m \u001b[1;34m\"_\"\u001b[0m \u001b[1;33m+\u001b[0m  \u001b[0mfname\u001b[0m\u001b[1;33m,\u001b[0m \u001b[0mdpi\u001b[0m\u001b[1;33m=\u001b[0m\u001b[1;36m72\u001b[0m\u001b[1;33m,\u001b[0m \u001b[0mwriter\u001b[0m\u001b[1;33m=\u001b[0m\u001b[0mwriter\u001b[0m\u001b[1;33m)\u001b[0m\u001b[1;31m#'imagemagick')\u001b[0m\u001b[1;33m\u001b[0m\u001b[0m\n\u001b[0m\u001b[0;32m    217\u001b[0m         \u001b[1;32mreturn\u001b[0m\u001b[1;33m\u001b[0m\u001b[0m\n",
      "\u001b[1;32m/usr/local/lib/python2.7/dist-packages/matplotlib/animation.pyc\u001b[0m in \u001b[0;36msave\u001b[1;34m(self, filename, writer, fps, dpi, codec, bitrate, extra_args, metadata, extra_anim, savefig_kwargs)\u001b[0m\n\u001b[0;32m    808\u001b[0m                     \u001b[1;31m# TODO: Need to see if turning off blit is really necessary\u001b[0m\u001b[1;33m\u001b[0m\u001b[1;33m\u001b[0m\u001b[0m\n\u001b[0;32m    809\u001b[0m                     \u001b[0manim\u001b[0m\u001b[1;33m.\u001b[0m\u001b[0m_draw_next_frame\u001b[0m\u001b[1;33m(\u001b[0m\u001b[0md\u001b[0m\u001b[1;33m,\u001b[0m \u001b[0mblit\u001b[0m\u001b[1;33m=\u001b[0m\u001b[0mFalse\u001b[0m\u001b[1;33m)\u001b[0m\u001b[1;33m\u001b[0m\u001b[0m\n\u001b[1;32m--> 810\u001b[1;33m                 \u001b[0mwriter\u001b[0m\u001b[1;33m.\u001b[0m\u001b[0mgrab_frame\u001b[0m\u001b[1;33m(\u001b[0m\u001b[1;33m**\u001b[0m\u001b[0msavefig_kwargs\u001b[0m\u001b[1;33m)\u001b[0m\u001b[1;33m\u001b[0m\u001b[0m\n\u001b[0m\u001b[0;32m    811\u001b[0m \u001b[1;33m\u001b[0m\u001b[0m\n\u001b[0;32m    812\u001b[0m         \u001b[1;31m# Reconnect signal for first draw if necessary\u001b[0m\u001b[1;33m\u001b[0m\u001b[1;33m\u001b[0m\u001b[0m\n",
      "\u001b[1;32m/usr/local/lib/python2.7/dist-packages/matplotlib/animation.pyc\u001b[0m in \u001b[0;36mgrab_frame\u001b[1;34m(self, **savefig_kwargs)\u001b[0m\n\u001b[0;32m    228\u001b[0m             \u001b[1;31m# frame format and dpi.\u001b[0m\u001b[1;33m\u001b[0m\u001b[1;33m\u001b[0m\u001b[0m\n\u001b[0;32m    229\u001b[0m             self.fig.savefig(self._frame_sink(), format=self.frame_format,\n\u001b[1;32m--> 230\u001b[1;33m                              dpi=self.dpi, **savefig_kwargs)\n\u001b[0m\u001b[0;32m    231\u001b[0m         \u001b[1;32mexcept\u001b[0m \u001b[0mRuntimeError\u001b[0m\u001b[1;33m:\u001b[0m\u001b[1;33m\u001b[0m\u001b[0m\n\u001b[0;32m    232\u001b[0m             \u001b[0mout\u001b[0m\u001b[1;33m,\u001b[0m \u001b[0merr\u001b[0m \u001b[1;33m=\u001b[0m \u001b[0mself\u001b[0m\u001b[1;33m.\u001b[0m\u001b[0m_proc\u001b[0m\u001b[1;33m.\u001b[0m\u001b[0mcommunicate\u001b[0m\u001b[1;33m(\u001b[0m\u001b[1;33m)\u001b[0m\u001b[1;33m\u001b[0m\u001b[0m\n",
      "\u001b[1;32m/usr/local/lib/python2.7/dist-packages/matplotlib/figure.pyc\u001b[0m in \u001b[0;36msavefig\u001b[1;34m(self, *args, **kwargs)\u001b[0m\n\u001b[0;32m   1563\u001b[0m             \u001b[0mself\u001b[0m\u001b[1;33m.\u001b[0m\u001b[0mset_frameon\u001b[0m\u001b[1;33m(\u001b[0m\u001b[0mframeon\u001b[0m\u001b[1;33m)\u001b[0m\u001b[1;33m\u001b[0m\u001b[0m\n\u001b[0;32m   1564\u001b[0m \u001b[1;33m\u001b[0m\u001b[0m\n\u001b[1;32m-> 1565\u001b[1;33m         \u001b[0mself\u001b[0m\u001b[1;33m.\u001b[0m\u001b[0mcanvas\u001b[0m\u001b[1;33m.\u001b[0m\u001b[0mprint_figure\u001b[0m\u001b[1;33m(\u001b[0m\u001b[1;33m*\u001b[0m\u001b[0margs\u001b[0m\u001b[1;33m,\u001b[0m \u001b[1;33m**\u001b[0m\u001b[0mkwargs\u001b[0m\u001b[1;33m)\u001b[0m\u001b[1;33m\u001b[0m\u001b[0m\n\u001b[0m\u001b[0;32m   1566\u001b[0m \u001b[1;33m\u001b[0m\u001b[0m\n\u001b[0;32m   1567\u001b[0m         \u001b[1;32mif\u001b[0m \u001b[0mframeon\u001b[0m\u001b[1;33m:\u001b[0m\u001b[1;33m\u001b[0m\u001b[0m\n",
      "\u001b[1;32m/usr/local/lib/python2.7/dist-packages/matplotlib/backends/backend_qt5agg.pyc\u001b[0m in \u001b[0;36mprint_figure\u001b[1;34m(self, *args, **kwargs)\u001b[0m\n\u001b[0;32m    195\u001b[0m     \u001b[1;32mdef\u001b[0m \u001b[0mprint_figure\u001b[0m\u001b[1;33m(\u001b[0m\u001b[0mself\u001b[0m\u001b[1;33m,\u001b[0m \u001b[1;33m*\u001b[0m\u001b[0margs\u001b[0m\u001b[1;33m,\u001b[0m \u001b[1;33m**\u001b[0m\u001b[0mkwargs\u001b[0m\u001b[1;33m)\u001b[0m\u001b[1;33m:\u001b[0m\u001b[1;33m\u001b[0m\u001b[0m\n\u001b[0;32m    196\u001b[0m         \u001b[0mFigureCanvasAgg\u001b[0m\u001b[1;33m.\u001b[0m\u001b[0mprint_figure\u001b[0m\u001b[1;33m(\u001b[0m\u001b[0mself\u001b[0m\u001b[1;33m,\u001b[0m \u001b[1;33m*\u001b[0m\u001b[0margs\u001b[0m\u001b[1;33m,\u001b[0m \u001b[1;33m**\u001b[0m\u001b[0mkwargs\u001b[0m\u001b[1;33m)\u001b[0m\u001b[1;33m\u001b[0m\u001b[0m\n\u001b[1;32m--> 197\u001b[1;33m         \u001b[0mself\u001b[0m\u001b[1;33m.\u001b[0m\u001b[0mdraw\u001b[0m\u001b[1;33m(\u001b[0m\u001b[1;33m)\u001b[0m\u001b[1;33m\u001b[0m\u001b[0m\n\u001b[0m\u001b[0;32m    198\u001b[0m \u001b[1;33m\u001b[0m\u001b[0m\n\u001b[0;32m    199\u001b[0m \u001b[1;33m\u001b[0m\u001b[0m\n",
      "\u001b[1;32m/usr/local/lib/python2.7/dist-packages/matplotlib/backends/backend_qt5agg.pyc\u001b[0m in \u001b[0;36mdraw\u001b[1;34m(self)\u001b[0m\n\u001b[0;32m    156\u001b[0m         \u001b[1;31m# The Agg draw is done here; delaying causes problems with code that\u001b[0m\u001b[1;33m\u001b[0m\u001b[1;33m\u001b[0m\u001b[0m\n\u001b[0;32m    157\u001b[0m         \u001b[1;31m# uses the result of the draw() to update plot elements.\u001b[0m\u001b[1;33m\u001b[0m\u001b[1;33m\u001b[0m\u001b[0m\n\u001b[1;32m--> 158\u001b[1;33m         \u001b[0mFigureCanvasAgg\u001b[0m\u001b[1;33m.\u001b[0m\u001b[0mdraw\u001b[0m\u001b[1;33m(\u001b[0m\u001b[0mself\u001b[0m\u001b[1;33m)\u001b[0m\u001b[1;33m\u001b[0m\u001b[0m\n\u001b[0m\u001b[0;32m    159\u001b[0m         \u001b[0mself\u001b[0m\u001b[1;33m.\u001b[0m\u001b[0mupdate\u001b[0m\u001b[1;33m(\u001b[0m\u001b[1;33m)\u001b[0m\u001b[1;33m\u001b[0m\u001b[0m\n\u001b[0;32m    160\u001b[0m \u001b[1;33m\u001b[0m\u001b[0m\n",
      "\u001b[1;32m/usr/local/lib/python2.7/dist-packages/matplotlib/backends/backend_agg.pyc\u001b[0m in \u001b[0;36mdraw\u001b[1;34m(self)\u001b[0m\n\u001b[0;32m    472\u001b[0m \u001b[1;33m\u001b[0m\u001b[0m\n\u001b[0;32m    473\u001b[0m         \u001b[1;32mtry\u001b[0m\u001b[1;33m:\u001b[0m\u001b[1;33m\u001b[0m\u001b[0m\n\u001b[1;32m--> 474\u001b[1;33m             \u001b[0mself\u001b[0m\u001b[1;33m.\u001b[0m\u001b[0mfigure\u001b[0m\u001b[1;33m.\u001b[0m\u001b[0mdraw\u001b[0m\u001b[1;33m(\u001b[0m\u001b[0mself\u001b[0m\u001b[1;33m.\u001b[0m\u001b[0mrenderer\u001b[0m\u001b[1;33m)\u001b[0m\u001b[1;33m\u001b[0m\u001b[0m\n\u001b[0m\u001b[0;32m    475\u001b[0m         \u001b[1;32mfinally\u001b[0m\u001b[1;33m:\u001b[0m\u001b[1;33m\u001b[0m\u001b[0m\n\u001b[0;32m    476\u001b[0m             \u001b[0mRendererAgg\u001b[0m\u001b[1;33m.\u001b[0m\u001b[0mlock\u001b[0m\u001b[1;33m.\u001b[0m\u001b[0mrelease\u001b[0m\u001b[1;33m(\u001b[0m\u001b[1;33m)\u001b[0m\u001b[1;33m\u001b[0m\u001b[0m\n",
      "\u001b[1;32m/usr/local/lib/python2.7/dist-packages/matplotlib/artist.pyc\u001b[0m in \u001b[0;36mdraw_wrapper\u001b[1;34m(artist, renderer, *args, **kwargs)\u001b[0m\n\u001b[0;32m     59\u001b[0m     \u001b[1;32mdef\u001b[0m \u001b[0mdraw_wrapper\u001b[0m\u001b[1;33m(\u001b[0m\u001b[0martist\u001b[0m\u001b[1;33m,\u001b[0m \u001b[0mrenderer\u001b[0m\u001b[1;33m,\u001b[0m \u001b[1;33m*\u001b[0m\u001b[0margs\u001b[0m\u001b[1;33m,\u001b[0m \u001b[1;33m**\u001b[0m\u001b[0mkwargs\u001b[0m\u001b[1;33m)\u001b[0m\u001b[1;33m:\u001b[0m\u001b[1;33m\u001b[0m\u001b[0m\n\u001b[0;32m     60\u001b[0m         \u001b[0mbefore\u001b[0m\u001b[1;33m(\u001b[0m\u001b[0martist\u001b[0m\u001b[1;33m,\u001b[0m \u001b[0mrenderer\u001b[0m\u001b[1;33m)\u001b[0m\u001b[1;33m\u001b[0m\u001b[0m\n\u001b[1;32m---> 61\u001b[1;33m         \u001b[0mdraw\u001b[0m\u001b[1;33m(\u001b[0m\u001b[0martist\u001b[0m\u001b[1;33m,\u001b[0m \u001b[0mrenderer\u001b[0m\u001b[1;33m,\u001b[0m \u001b[1;33m*\u001b[0m\u001b[0margs\u001b[0m\u001b[1;33m,\u001b[0m \u001b[1;33m**\u001b[0m\u001b[0mkwargs\u001b[0m\u001b[1;33m)\u001b[0m\u001b[1;33m\u001b[0m\u001b[0m\n\u001b[0m\u001b[0;32m     62\u001b[0m         \u001b[0mafter\u001b[0m\u001b[1;33m(\u001b[0m\u001b[0martist\u001b[0m\u001b[1;33m,\u001b[0m \u001b[0mrenderer\u001b[0m\u001b[1;33m)\u001b[0m\u001b[1;33m\u001b[0m\u001b[0m\n\u001b[0;32m     63\u001b[0m \u001b[1;33m\u001b[0m\u001b[0m\n",
      "\u001b[1;32m/usr/local/lib/python2.7/dist-packages/matplotlib/figure.pyc\u001b[0m in \u001b[0;36mdraw\u001b[1;34m(self, renderer)\u001b[0m\n\u001b[0;32m   1157\u001b[0m         \u001b[0mdsu\u001b[0m\u001b[1;33m.\u001b[0m\u001b[0msort\u001b[0m\u001b[1;33m(\u001b[0m\u001b[0mkey\u001b[0m\u001b[1;33m=\u001b[0m\u001b[0mitemgetter\u001b[0m\u001b[1;33m(\u001b[0m\u001b[1;36m0\u001b[0m\u001b[1;33m)\u001b[0m\u001b[1;33m)\u001b[0m\u001b[1;33m\u001b[0m\u001b[0m\n\u001b[0;32m   1158\u001b[0m         \u001b[1;32mfor\u001b[0m \u001b[0mzorder\u001b[0m\u001b[1;33m,\u001b[0m \u001b[0ma\u001b[0m\u001b[1;33m,\u001b[0m \u001b[0mfunc\u001b[0m\u001b[1;33m,\u001b[0m \u001b[0margs\u001b[0m \u001b[1;32min\u001b[0m \u001b[0mdsu\u001b[0m\u001b[1;33m:\u001b[0m\u001b[1;33m\u001b[0m\u001b[0m\n\u001b[1;32m-> 1159\u001b[1;33m             \u001b[0mfunc\u001b[0m\u001b[1;33m(\u001b[0m\u001b[1;33m*\u001b[0m\u001b[0margs\u001b[0m\u001b[1;33m)\u001b[0m\u001b[1;33m\u001b[0m\u001b[0m\n\u001b[0m\u001b[0;32m   1160\u001b[0m \u001b[1;33m\u001b[0m\u001b[0m\n\u001b[0;32m   1161\u001b[0m         \u001b[0mrenderer\u001b[0m\u001b[1;33m.\u001b[0m\u001b[0mclose_group\u001b[0m\u001b[1;33m(\u001b[0m\u001b[1;34m'figure'\u001b[0m\u001b[1;33m)\u001b[0m\u001b[1;33m\u001b[0m\u001b[0m\n",
      "\u001b[1;32m/usr/local/lib/python2.7/dist-packages/matplotlib/artist.pyc\u001b[0m in \u001b[0;36mdraw_wrapper\u001b[1;34m(artist, renderer, *args, **kwargs)\u001b[0m\n\u001b[0;32m     59\u001b[0m     \u001b[1;32mdef\u001b[0m \u001b[0mdraw_wrapper\u001b[0m\u001b[1;33m(\u001b[0m\u001b[0martist\u001b[0m\u001b[1;33m,\u001b[0m \u001b[0mrenderer\u001b[0m\u001b[1;33m,\u001b[0m \u001b[1;33m*\u001b[0m\u001b[0margs\u001b[0m\u001b[1;33m,\u001b[0m \u001b[1;33m**\u001b[0m\u001b[0mkwargs\u001b[0m\u001b[1;33m)\u001b[0m\u001b[1;33m:\u001b[0m\u001b[1;33m\u001b[0m\u001b[0m\n\u001b[0;32m     60\u001b[0m         \u001b[0mbefore\u001b[0m\u001b[1;33m(\u001b[0m\u001b[0martist\u001b[0m\u001b[1;33m,\u001b[0m \u001b[0mrenderer\u001b[0m\u001b[1;33m)\u001b[0m\u001b[1;33m\u001b[0m\u001b[0m\n\u001b[1;32m---> 61\u001b[1;33m         \u001b[0mdraw\u001b[0m\u001b[1;33m(\u001b[0m\u001b[0martist\u001b[0m\u001b[1;33m,\u001b[0m \u001b[0mrenderer\u001b[0m\u001b[1;33m,\u001b[0m \u001b[1;33m*\u001b[0m\u001b[0margs\u001b[0m\u001b[1;33m,\u001b[0m \u001b[1;33m**\u001b[0m\u001b[0mkwargs\u001b[0m\u001b[1;33m)\u001b[0m\u001b[1;33m\u001b[0m\u001b[0m\n\u001b[0m\u001b[0;32m     62\u001b[0m         \u001b[0mafter\u001b[0m\u001b[1;33m(\u001b[0m\u001b[0martist\u001b[0m\u001b[1;33m,\u001b[0m \u001b[0mrenderer\u001b[0m\u001b[1;33m)\u001b[0m\u001b[1;33m\u001b[0m\u001b[0m\n\u001b[0;32m     63\u001b[0m \u001b[1;33m\u001b[0m\u001b[0m\n",
      "\u001b[1;32m/usr/local/lib/python2.7/dist-packages/matplotlib/axes/_base.pyc\u001b[0m in \u001b[0;36mdraw\u001b[1;34m(self, renderer, inframe)\u001b[0m\n\u001b[0;32m   2322\u001b[0m \u001b[1;33m\u001b[0m\u001b[0m\n\u001b[0;32m   2323\u001b[0m         \u001b[1;32mfor\u001b[0m \u001b[0mzorder\u001b[0m\u001b[1;33m,\u001b[0m \u001b[0ma\u001b[0m \u001b[1;32min\u001b[0m \u001b[0mdsu\u001b[0m\u001b[1;33m:\u001b[0m\u001b[1;33m\u001b[0m\u001b[0m\n\u001b[1;32m-> 2324\u001b[1;33m             \u001b[0ma\u001b[0m\u001b[1;33m.\u001b[0m\u001b[0mdraw\u001b[0m\u001b[1;33m(\u001b[0m\u001b[0mrenderer\u001b[0m\u001b[1;33m)\u001b[0m\u001b[1;33m\u001b[0m\u001b[0m\n\u001b[0m\u001b[0;32m   2325\u001b[0m \u001b[1;33m\u001b[0m\u001b[0m\n\u001b[0;32m   2326\u001b[0m         \u001b[0mrenderer\u001b[0m\u001b[1;33m.\u001b[0m\u001b[0mclose_group\u001b[0m\u001b[1;33m(\u001b[0m\u001b[1;34m'axes'\u001b[0m\u001b[1;33m)\u001b[0m\u001b[1;33m\u001b[0m\u001b[0m\n",
      "\u001b[1;32m/usr/local/lib/python2.7/dist-packages/matplotlib/artist.pyc\u001b[0m in \u001b[0;36mdraw_wrapper\u001b[1;34m(artist, renderer, *args, **kwargs)\u001b[0m\n\u001b[0;32m     59\u001b[0m     \u001b[1;32mdef\u001b[0m \u001b[0mdraw_wrapper\u001b[0m\u001b[1;33m(\u001b[0m\u001b[0martist\u001b[0m\u001b[1;33m,\u001b[0m \u001b[0mrenderer\u001b[0m\u001b[1;33m,\u001b[0m \u001b[1;33m*\u001b[0m\u001b[0margs\u001b[0m\u001b[1;33m,\u001b[0m \u001b[1;33m**\u001b[0m\u001b[0mkwargs\u001b[0m\u001b[1;33m)\u001b[0m\u001b[1;33m:\u001b[0m\u001b[1;33m\u001b[0m\u001b[0m\n\u001b[0;32m     60\u001b[0m         \u001b[0mbefore\u001b[0m\u001b[1;33m(\u001b[0m\u001b[0martist\u001b[0m\u001b[1;33m,\u001b[0m \u001b[0mrenderer\u001b[0m\u001b[1;33m)\u001b[0m\u001b[1;33m\u001b[0m\u001b[0m\n\u001b[1;32m---> 61\u001b[1;33m         \u001b[0mdraw\u001b[0m\u001b[1;33m(\u001b[0m\u001b[0martist\u001b[0m\u001b[1;33m,\u001b[0m \u001b[0mrenderer\u001b[0m\u001b[1;33m,\u001b[0m \u001b[1;33m*\u001b[0m\u001b[0margs\u001b[0m\u001b[1;33m,\u001b[0m \u001b[1;33m**\u001b[0m\u001b[0mkwargs\u001b[0m\u001b[1;33m)\u001b[0m\u001b[1;33m\u001b[0m\u001b[0m\n\u001b[0m\u001b[0;32m     62\u001b[0m         \u001b[0mafter\u001b[0m\u001b[1;33m(\u001b[0m\u001b[0martist\u001b[0m\u001b[1;33m,\u001b[0m \u001b[0mrenderer\u001b[0m\u001b[1;33m)\u001b[0m\u001b[1;33m\u001b[0m\u001b[0m\n\u001b[0;32m     63\u001b[0m \u001b[1;33m\u001b[0m\u001b[0m\n",
      "\u001b[1;32m/usr/local/lib/python2.7/dist-packages/matplotlib/axis.pyc\u001b[0m in \u001b[0;36mdraw\u001b[1;34m(self, renderer, *args, **kwargs)\u001b[0m\n\u001b[0;32m   1109\u001b[0m \u001b[1;33m\u001b[0m\u001b[0m\n\u001b[0;32m   1110\u001b[0m         \u001b[1;32mfor\u001b[0m \u001b[0mtick\u001b[0m \u001b[1;32min\u001b[0m \u001b[0mticks_to_draw\u001b[0m\u001b[1;33m:\u001b[0m\u001b[1;33m\u001b[0m\u001b[0m\n\u001b[1;32m-> 1111\u001b[1;33m             \u001b[0mtick\u001b[0m\u001b[1;33m.\u001b[0m\u001b[0mdraw\u001b[0m\u001b[1;33m(\u001b[0m\u001b[0mrenderer\u001b[0m\u001b[1;33m)\u001b[0m\u001b[1;33m\u001b[0m\u001b[0m\n\u001b[0m\u001b[0;32m   1112\u001b[0m \u001b[1;33m\u001b[0m\u001b[0m\n\u001b[0;32m   1113\u001b[0m         \u001b[1;31m# scale up the axis label box to also find the neighbors, not\u001b[0m\u001b[1;33m\u001b[0m\u001b[1;33m\u001b[0m\u001b[0m\n",
      "\u001b[1;32m/usr/local/lib/python2.7/dist-packages/matplotlib/artist.pyc\u001b[0m in \u001b[0;36mdraw_wrapper\u001b[1;34m(artist, renderer, *args, **kwargs)\u001b[0m\n\u001b[0;32m     59\u001b[0m     \u001b[1;32mdef\u001b[0m \u001b[0mdraw_wrapper\u001b[0m\u001b[1;33m(\u001b[0m\u001b[0martist\u001b[0m\u001b[1;33m,\u001b[0m \u001b[0mrenderer\u001b[0m\u001b[1;33m,\u001b[0m \u001b[1;33m*\u001b[0m\u001b[0margs\u001b[0m\u001b[1;33m,\u001b[0m \u001b[1;33m**\u001b[0m\u001b[0mkwargs\u001b[0m\u001b[1;33m)\u001b[0m\u001b[1;33m:\u001b[0m\u001b[1;33m\u001b[0m\u001b[0m\n\u001b[0;32m     60\u001b[0m         \u001b[0mbefore\u001b[0m\u001b[1;33m(\u001b[0m\u001b[0martist\u001b[0m\u001b[1;33m,\u001b[0m \u001b[0mrenderer\u001b[0m\u001b[1;33m)\u001b[0m\u001b[1;33m\u001b[0m\u001b[0m\n\u001b[1;32m---> 61\u001b[1;33m         \u001b[0mdraw\u001b[0m\u001b[1;33m(\u001b[0m\u001b[0martist\u001b[0m\u001b[1;33m,\u001b[0m \u001b[0mrenderer\u001b[0m\u001b[1;33m,\u001b[0m \u001b[1;33m*\u001b[0m\u001b[0margs\u001b[0m\u001b[1;33m,\u001b[0m \u001b[1;33m**\u001b[0m\u001b[0mkwargs\u001b[0m\u001b[1;33m)\u001b[0m\u001b[1;33m\u001b[0m\u001b[0m\n\u001b[0m\u001b[0;32m     62\u001b[0m         \u001b[0mafter\u001b[0m\u001b[1;33m(\u001b[0m\u001b[0martist\u001b[0m\u001b[1;33m,\u001b[0m \u001b[0mrenderer\u001b[0m\u001b[1;33m)\u001b[0m\u001b[1;33m\u001b[0m\u001b[0m\n\u001b[0;32m     63\u001b[0m \u001b[1;33m\u001b[0m\u001b[0m\n",
      "\u001b[1;32m/usr/local/lib/python2.7/dist-packages/matplotlib/axis.pyc\u001b[0m in \u001b[0;36mdraw\u001b[1;34m(self, renderer)\u001b[0m\n\u001b[0;32m    250\u001b[0m \u001b[1;33m\u001b[0m\u001b[0m\n\u001b[0;32m    251\u001b[0m         \u001b[1;32mif\u001b[0m \u001b[0mself\u001b[0m\u001b[1;33m.\u001b[0m\u001b[0mlabel1On\u001b[0m\u001b[1;33m:\u001b[0m\u001b[1;33m\u001b[0m\u001b[0m\n\u001b[1;32m--> 252\u001b[1;33m             \u001b[0mself\u001b[0m\u001b[1;33m.\u001b[0m\u001b[0mlabel1\u001b[0m\u001b[1;33m.\u001b[0m\u001b[0mdraw\u001b[0m\u001b[1;33m(\u001b[0m\u001b[0mrenderer\u001b[0m\u001b[1;33m)\u001b[0m\u001b[1;33m\u001b[0m\u001b[0m\n\u001b[0m\u001b[0;32m    253\u001b[0m         \u001b[1;32mif\u001b[0m \u001b[0mself\u001b[0m\u001b[1;33m.\u001b[0m\u001b[0mlabel2On\u001b[0m\u001b[1;33m:\u001b[0m\u001b[1;33m\u001b[0m\u001b[0m\n\u001b[0;32m    254\u001b[0m             \u001b[0mself\u001b[0m\u001b[1;33m.\u001b[0m\u001b[0mlabel2\u001b[0m\u001b[1;33m.\u001b[0m\u001b[0mdraw\u001b[0m\u001b[1;33m(\u001b[0m\u001b[0mrenderer\u001b[0m\u001b[1;33m)\u001b[0m\u001b[1;33m\u001b[0m\u001b[0m\n",
      "\u001b[1;32m/usr/local/lib/python2.7/dist-packages/matplotlib/artist.pyc\u001b[0m in \u001b[0;36mdraw_wrapper\u001b[1;34m(artist, renderer, *args, **kwargs)\u001b[0m\n\u001b[0;32m     59\u001b[0m     \u001b[1;32mdef\u001b[0m \u001b[0mdraw_wrapper\u001b[0m\u001b[1;33m(\u001b[0m\u001b[0martist\u001b[0m\u001b[1;33m,\u001b[0m \u001b[0mrenderer\u001b[0m\u001b[1;33m,\u001b[0m \u001b[1;33m*\u001b[0m\u001b[0margs\u001b[0m\u001b[1;33m,\u001b[0m \u001b[1;33m**\u001b[0m\u001b[0mkwargs\u001b[0m\u001b[1;33m)\u001b[0m\u001b[1;33m:\u001b[0m\u001b[1;33m\u001b[0m\u001b[0m\n\u001b[0;32m     60\u001b[0m         \u001b[0mbefore\u001b[0m\u001b[1;33m(\u001b[0m\u001b[0martist\u001b[0m\u001b[1;33m,\u001b[0m \u001b[0mrenderer\u001b[0m\u001b[1;33m)\u001b[0m\u001b[1;33m\u001b[0m\u001b[0m\n\u001b[1;32m---> 61\u001b[1;33m         \u001b[0mdraw\u001b[0m\u001b[1;33m(\u001b[0m\u001b[0martist\u001b[0m\u001b[1;33m,\u001b[0m \u001b[0mrenderer\u001b[0m\u001b[1;33m,\u001b[0m \u001b[1;33m*\u001b[0m\u001b[0margs\u001b[0m\u001b[1;33m,\u001b[0m \u001b[1;33m**\u001b[0m\u001b[0mkwargs\u001b[0m\u001b[1;33m)\u001b[0m\u001b[1;33m\u001b[0m\u001b[0m\n\u001b[0m\u001b[0;32m     62\u001b[0m         \u001b[0mafter\u001b[0m\u001b[1;33m(\u001b[0m\u001b[0martist\u001b[0m\u001b[1;33m,\u001b[0m \u001b[0mrenderer\u001b[0m\u001b[1;33m)\u001b[0m\u001b[1;33m\u001b[0m\u001b[0m\n\u001b[0;32m     63\u001b[0m \u001b[1;33m\u001b[0m\u001b[0m\n",
      "\u001b[1;32m/usr/local/lib/python2.7/dist-packages/matplotlib/text.pyc\u001b[0m in \u001b[0;36mdraw\u001b[1;34m(self, renderer)\u001b[0m\n\u001b[0;32m    756\u001b[0m             \u001b[1;32mif\u001b[0m \u001b[1;32mnot\u001b[0m \u001b[0mnp\u001b[0m\u001b[1;33m.\u001b[0m\u001b[0misfinite\u001b[0m\u001b[1;33m(\u001b[0m\u001b[0mposx\u001b[0m\u001b[1;33m)\u001b[0m \u001b[1;32mor\u001b[0m \u001b[1;32mnot\u001b[0m \u001b[0mnp\u001b[0m\u001b[1;33m.\u001b[0m\u001b[0misfinite\u001b[0m\u001b[1;33m(\u001b[0m\u001b[0mposy\u001b[0m\u001b[1;33m)\u001b[0m\u001b[1;33m:\u001b[0m\u001b[1;33m\u001b[0m\u001b[0m\n\u001b[0;32m    757\u001b[0m                 \u001b[1;32mraise\u001b[0m \u001b[0mValueError\u001b[0m\u001b[1;33m(\u001b[0m\u001b[1;34m\"posx and posy should be finite values\"\u001b[0m\u001b[1;33m)\u001b[0m\u001b[1;33m\u001b[0m\u001b[0m\n\u001b[1;32m--> 758\u001b[1;33m             \u001b[0mposx\u001b[0m\u001b[1;33m,\u001b[0m \u001b[0mposy\u001b[0m \u001b[1;33m=\u001b[0m \u001b[0mtrans\u001b[0m\u001b[1;33m.\u001b[0m\u001b[0mtransform_point\u001b[0m\u001b[1;33m(\u001b[0m\u001b[1;33m(\u001b[0m\u001b[0mposx\u001b[0m\u001b[1;33m,\u001b[0m \u001b[0mposy\u001b[0m\u001b[1;33m)\u001b[0m\u001b[1;33m)\u001b[0m\u001b[1;33m\u001b[0m\u001b[0m\n\u001b[0m\u001b[0;32m    759\u001b[0m             \u001b[0mcanvasw\u001b[0m\u001b[1;33m,\u001b[0m \u001b[0mcanvash\u001b[0m \u001b[1;33m=\u001b[0m \u001b[0mrenderer\u001b[0m\u001b[1;33m.\u001b[0m\u001b[0mget_canvas_width_height\u001b[0m\u001b[1;33m(\u001b[0m\u001b[1;33m)\u001b[0m\u001b[1;33m\u001b[0m\u001b[0m\n\u001b[0;32m    760\u001b[0m \u001b[1;33m\u001b[0m\u001b[0m\n",
      "\u001b[1;31mKeyboardInterrupt\u001b[0m: "
     ]
    }
   ],
   "source": [
    "def contours_from_matlab(img_fname):\n",
    "    c_str =  \"detect_and_save_contour_single('\"+ img_fname  +\"', '\" +os.getcwd() + \"/temp.mat\" +\"'); exit()\" \n",
    "    print c_str\n",
    "    cwd = os.getcwd() \n",
    "    os.chdir('/home/old-ufo/dev/line_Jimmy/dlines/matlab/')\n",
    "    call([\"/home/old-ufo/apps/MATLAB/bin/matlab\", \"-nodisplay\",\n",
    "          \"-nojvm\", \"-r\", c_str]);\n",
    "    from scipy import io\n",
    "    out = io.loadmat(cwd + \"/temp.mat\")['M']\n",
    "    os.chdir(cwd)\n",
    "    return out\n",
    "import cPickle as pickle\n",
    "dn = '/home/old-ufo/Dropbox/HP/'\n",
    "for dir1 in sorted(os.listdir(dn)):\n",
    "    if 'i_' not in dir1:\n",
    "        continue\n",
    "    print dir1\n",
    "    if os.path.isfile(dir1 + '.pickle'):\n",
    "        continue\n",
    "    if os.path.isfile('output_discrim_align_detach_conts_un/HardNetMaxPool_'+dir1 + '_single.mp4'):\n",
    "        continue\n",
    "    img1 = load_grayscale_var(os.path.join(dn,dir1) + '/1.ppm') \n",
    "    img2 = load_grayscale_var(os.path.join(dn,dir1) + '/2.ppm')\n",
    "    yy1 = contours_from_matlab(os.path.join(dn,dir1) + '/1.ppm');\n",
    "    yy1 = denormalizeContour(yy1, img1.size(3), img1.size(2))\n",
    "    \n",
    "    yy1 = GetKLongestFromM(yy1, 30)\n",
    "    yy2 = deepcopy(yy1)\n",
    "    c1 = makeContoursFromMNumpy(yy1, 30.0)\n",
    "    c2 = makeContoursFromMNumpy(yy2, 30.0)\n",
    "    LOP = ContDiscrOptimDetach(desc_list, desc_names, cuda = True, lr = 2.0)\n",
    "    LOP.optimize(c1.data, c2.data, img1, img2, 100)\n",
    "    LOP.img1 = img1.data.cpu().numpy()\n",
    "    LOP.savemp4_per_desc(dir1 + '_single.mp4')  \n",
    "    #LOP.save_data(dir1 + '.pickle');\n",
    "    #print 'opt done'\n",
    "    #break\n",
    "    #LOP.savemp4_per_desc(dir1 + '.mp4')  "
   ]
  },
  {
   "cell_type": "code",
   "execution_count": 19,
   "metadata": {
    "collapsed": false
   },
   "outputs": [],
   "source": [
    "LOP.img1 = img1.data.cpu().numpy()\n",
    "LOP.savemp4_per_desc(dir1 + '_single_mp22.mp4')  "
   ]
  },
  {
   "cell_type": "code",
   "execution_count": 16,
   "metadata": {
    "collapsed": false
   },
   "outputs": [],
   "source": []
  },
  {
   "cell_type": "code",
   "execution_count": null,
   "metadata": {
    "collapsed": false
   },
   "outputs": [],
   "source": []
  },
  {
   "cell_type": "code",
   "execution_count": 5,
   "metadata": {
    "collapsed": false
   },
   "outputs": [
    {
     "name": "stdout",
     "output_type": "stream",
     "text": [
      "1\n"
     ]
    }
   ],
   "source": [
    "print '1'"
   ]
  },
  {
   "cell_type": "code",
   "execution_count": 16,
   "metadata": {
    "collapsed": false
   },
   "outputs": [
    {
     "name": "stdout",
     "output_type": "stream",
     "text": [
      "i_ajuntament\n",
      "detect_and_save_contour_single('/home/old-ufo/Dropbox/HP/i_ajuntament/1.ppm', '/home/old-ufo/dev/scalenet/contour/temp.mat'); exit()\n"
     ]
    },
    {
     "name": "stderr",
     "output_type": "stream",
     "text": [
      "/usr/local/lib/python2.7/dist-packages/ipykernel/__main__.py:7: UserWarning: volatile was removed and now has no effect. Use `with torch.no_grad():` instead.\n"
     ]
    },
    {
     "name": "stdout",
     "output_type": "stream",
     "text": [
      "Pixels\n"
     ]
    }
   ],
   "source": []
  },
  {
   "cell_type": "code",
   "execution_count": null,
   "metadata": {
    "collapsed": false,
    "scrolled": false
   },
   "outputs": [],
   "source": []
  },
  {
   "cell_type": "code",
   "execution_count": null,
   "metadata": {
    "collapsed": false
   },
   "outputs": [],
   "source": []
  },
  {
   "cell_type": "code",
   "execution_count": null,
   "metadata": {
    "collapsed": false
   },
   "outputs": [],
   "source": []
  },
  {
   "cell_type": "code",
   "execution_count": null,
   "metadata": {
    "collapsed": false
   },
   "outputs": [],
   "source": []
  }
 ],
 "metadata": {
  "kernelspec": {
   "display_name": "Python 2",
   "language": "python",
   "name": "python2"
  },
  "language_info": {
   "codemirror_mode": {
    "name": "ipython",
    "version": 2
   },
   "file_extension": ".py",
   "mimetype": "text/x-python",
   "name": "python",
   "nbconvert_exporter": "python",
   "pygments_lexer": "ipython2",
   "version": "2.7.12"
  }
 },
 "nbformat": 4,
 "nbformat_minor": 0
}
